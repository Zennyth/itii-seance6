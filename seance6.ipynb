{
  "nbformat": 4,
  "nbformat_minor": 0,
  "metadata": {
    "kernelspec": {
      "display_name": "Python 3",
      "language": "python",
      "name": "python3"
    },
    "language_info": {
      "codemirror_mode": {
        "name": "ipython",
        "version": 3
      },
      "file_extension": ".py",
      "mimetype": "text/x-python",
      "name": "python",
      "nbconvert_exporter": "python",
      "pygments_lexer": "ipython3",
      "version": "3.7.6"
    },
    "colab": {
      "name": "Copie de seance6.ipynb",
      "provenance": [],
      "collapsed_sections": [],
      "include_colab_link": true
    }
  },
  "cells": [
    {
      "cell_type": "markdown",
      "metadata": {
        "id": "view-in-github",
        "colab_type": "text"
      },
      "source": [
        "<a href=\"https://colab.research.google.com/github/Zennyth/itii-seance6/blob/main/seance6.ipynb\" target=\"_parent\"><img src=\"https://colab.research.google.com/assets/colab-badge.svg\" alt=\"Open In Colab\"/></a>"
      ]
    },
    {
      "cell_type": "markdown",
      "metadata": {
        "id": "PmWna3Th62GM"
      },
      "source": [
        "Ex 1 : La m ́ethode des rectangles\n",
        "On cherche à calculer une intégrale en utilisant la méthode des rectangles.\n",
        "![1.png](attachment:1.png)\n",
        "\n",
        "L’intervalle de l’intégrale est noté [a,b] et la fonction à intégrer f. On divise cet intervalle en n petits segments et on fait la somme des aires des petits rectangles délimités par l’axe des abscisses et la courbe de la fonction f.\n",
        "\n",
        "![2.png](attachment:2.png)\n",
        "\n",
        "1. Ecrire la fontion integrale(f,a,b,n) \n",
        "2. Quelle valeur de n faut-il choisir pour être précis à 10^{-4} près ? Ecrire la fonction qui permette de calculer cette valeur.\n",
        "3. Tester avec la fonction $f(x)=3x^3+2x-1$ sur l'interval [0,10] avec un pas de 0.001\n",
        "4. Tester avec la fonction $g(x)=cos(\\frac {1}{x})$ sur l'interval [-1;1] privé de 0"
      ]
    },
    {
      "cell_type": "code",
      "metadata": {
        "id": "tfCJkBkH62GM",
        "colab": {
          "base_uri": "https://localhost:8080/"
        },
        "outputId": "c57a4640-952a-46e5-8f84-bd72979976fb"
      },
      "source": [
        "\n",
        "#Exercice 1\n",
        "import numpy as np\n",
        "import math\n",
        "\n",
        "#Partie 1\n",
        "def integral(f, a, b, n):\n",
        "    somme = 0\n",
        "    h = float(b-a) / n\n",
        "    x = a\n",
        "    for i in range(0, n + 1):\n",
        "        somme += f(x) * h\n",
        "        x += h\n",
        "    return somme\n",
        "\n",
        "#Partie 2\n",
        "def integral_precise(f, a, b, n0, precision):\n",
        "    val = integral(f, a, b, n0)\n",
        "    val0 = None\n",
        "    while val0 is None or abs(val - val0) / val0 > precision:\n",
        "        val0 = val\n",
        "        n0 += 1\n",
        "        val = integral(f, a, b, n0)\n",
        "    return val, n0\n",
        "\n",
        "print(integral_precise(lambda x: x, 0, 1, 10, 1e-4))\n",
        "\n",
        "#Partie 3\n",
        "f = lambda x : 3*x**3 + 2*x - 1\n",
        "print(integral(f,0,10,20))\n",
        "\n",
        "#Partie 4\n",
        "g = lambda x : math.cos(1/x)\n",
        "print(integral(g,-1,1,20))"
      ],
      "execution_count": 24,
      "outputs": [
        {
          "output_type": "stream",
          "text": [
            "(0.5050000000000003, 100)\n",
            "8363.25\n",
            "-0.2552660542461965\n"
          ],
          "name": "stdout"
        }
      ]
    },
    {
      "cell_type": "markdown",
      "metadata": {
        "id": "V93d5f6R62GM"
      },
      "source": [
        "Ex2: Méthode des trapèzes\n",
        "Le calcul numérique d’une intégrale par la méthode des trapèzes consiste à calculer une valeur approchée de l’intégrale $\\int_{a}^{b}f(x)dx$ en utilisant une interpolation linéaire de f par intervalles. Sur un intervalle [a,b], la valeur de l’intégrale peut être approchée par la surface du trapèzepassant par les points[a,0],[a,f(a)],[b,f(b)],[b,0]:\n",
        "$$\\int_{a}^{b}f(x)dx \\approx (b-a) \\left [ \\frac{f(a)+f(b)}{2} \\right ]$$\n",
        "\n",
        "Pour calculer une meilleur approximation de cette intégrale, on découpe l’intervalle [a,b] en n intervalles plus petits, de taille $\\frac{b-a}{n}$, et on calcule la somme des aires (signées) des trapèzes :\n",
        "$$\n",
        "\\int_{a}^{b}f(x)dx \\approx \\frac{(b-a)}{2n} \\sum_{k=i}^{n} \\left [ f(a+(k-i)\\frac{b-a}{n})+f(a+k\\frac{b-a}{n}) \\right ]$$\n",
        "\n",
        "1. Écrivez tous les termes de la somme ci-dessus pour n= 3, et observez qu’il estpossible de faire le calcul avec exactement n+ 1 = 4appels à la fonction f\n",
        "2. Écrire une fonction pythonintegrale_trapezes(a, b, n) qui calcule l’intégrale de la fonction f(x) de a à b avec n intervalles, en faisant au plus n+ 1 appels à la fonction f.\n",
        "3. Pour $f(x) =xsin(x2)$, calculez l’erreur numérique de son intégrale sur l’intervalle [0,√π], pour 2 à 30 intervalles."
      ]
    },
    {
      "cell_type": "code",
      "metadata": {
        "colab": {
          "base_uri": "https://localhost:8080/"
        },
        "id": "MHEeI9NT7Oqx",
        "outputId": "ecf10bd2-7db4-4cf3-b23e-78671c1d6e6b"
      },
      "source": [
        "#Exercice 2\n",
        "\n",
        "import numpy as np\n",
        "import math\n",
        "\n",
        "def trapezes(f, a, b, n):\n",
        "     res = (b-a)/(2*n)\n",
        "     sum = 0\n",
        "     i = 1\n",
        "     for k in range(i, n):\n",
        "       sum += f(a+(k-i)*(b-a)/n) + f(a+k*(b-a)/n)\n",
        "     return res*sum\n",
        "    \n",
        "trapezes(lambda x: x*math.sin(x**2), 0, math.sqrt(math.pi), 30)"
      ],
      "execution_count": 28,
      "outputs": [
        {
          "output_type": "execute_result",
          "data": {
            "text/plain": [
              "0.9878206872649367"
            ]
          },
          "metadata": {
            "tags": []
          },
          "execution_count": 28
        }
      ]
    }
  ]
}